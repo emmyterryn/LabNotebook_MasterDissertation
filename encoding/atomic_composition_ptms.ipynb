{
 "cells": [
  {
   "cell_type": "code",
   "execution_count": 1,
   "metadata": {},
   "outputs": [],
   "source": [
    "import numpy as np\n",
    "import pandas as pd\n",
    "import matplotlib.pyplot as plt\n",
    "from collections import Counter\n",
    "import copy\n",
    "\n",
    "from psm_utils.io.peptide_record import peprec_to_proforma\n",
    "from psm_utils.psm import PSM\n",
    "from psm_utils.psm_list import PSMList\n",
    "from psm_utils.io import write_file\n",
    "from deeplc import FeatExtractor"
   ]
  },
  {
   "cell_type": "code",
   "execution_count": 3,
   "metadata": {},
   "outputs": [],
   "source": [
    "# Read the CSV file into a DataFrame\n",
    "df = pd.read_csv('/home/emmy/Notebooks2/output/MQpeprec.csv')\n",
    "\n",
    "# Replace \"Citrullination\" with \"Deamidation\" in all columns\n",
    "df = df.replace(\"Citrullination\", \"Deamidation\")\n",
    "\n",
    "# Write the DataFrame back to a CSV file\n",
    "df.to_csv('/home/emmy/Notebooks2/output/MQpeprec_1.csv', index=False)"
   ]
  },
  {
   "cell_type": "code",
   "execution_count": 7,
   "metadata": {},
   "outputs": [
    {
     "data": {
      "text/html": [
       "<div>\n",
       "<style scoped>\n",
       "    .dataframe tbody tr th:only-of-type {\n",
       "        vertical-align: middle;\n",
       "    }\n",
       "\n",
       "    .dataframe tbody tr th {\n",
       "        vertical-align: top;\n",
       "    }\n",
       "\n",
       "    .dataframe thead th {\n",
       "        text-align: right;\n",
       "    }\n",
       "</style>\n",
       "<table border=\"1\" class=\"dataframe\">\n",
       "  <thead>\n",
       "    <tr style=\"text-align: right;\">\n",
       "      <th></th>\n",
       "      <th>Unnamed: 0</th>\n",
       "      <th>sequence</th>\n",
       "      <th>modifications</th>\n",
       "      <th>charge</th>\n",
       "      <th>tr</th>\n",
       "    </tr>\n",
       "  </thead>\n",
       "  <tbody>\n",
       "    <tr>\n",
       "      <th>14408</th>\n",
       "      <td>2590916</td>\n",
       "      <td>AAGGAPLSCFICGGGIGRGK</td>\n",
       "      <td>9|Carbamidomethyl|12|Carbamidomethyl|18|Citrul...</td>\n",
       "      <td>2</td>\n",
       "      <td>457.243285</td>\n",
       "    </tr>\n",
       "    <tr>\n",
       "      <th>14409</th>\n",
       "      <td>2590917</td>\n",
       "      <td>AAGGAPLSCFICGGGIGRGK</td>\n",
       "      <td>9|Carbamidomethyl|12|Carbamidomethyl|18|Citrul...</td>\n",
       "      <td>3</td>\n",
       "      <td>545.810620</td>\n",
       "    </tr>\n",
       "    <tr>\n",
       "      <th>14984</th>\n",
       "      <td>2590930</td>\n",
       "      <td>AAHGRGALAEAAR</td>\n",
       "      <td>5|Citrullination</td>\n",
       "      <td>2</td>\n",
       "      <td>382.786007</td>\n",
       "    </tr>\n",
       "    <tr>\n",
       "      <th>14985</th>\n",
       "      <td>2590939</td>\n",
       "      <td>AAHGRGALAEAAR</td>\n",
       "      <td>5|Citrullination</td>\n",
       "      <td>3</td>\n",
       "      <td>463.892010</td>\n",
       "    </tr>\n",
       "    <tr>\n",
       "      <th>20120</th>\n",
       "      <td>2590957</td>\n",
       "      <td>AAYQAAIRGVGSAQSR</td>\n",
       "      <td>8|Citrullination|16|Citrullination</td>\n",
       "      <td>2</td>\n",
       "      <td>414.281695</td>\n",
       "    </tr>\n",
       "  </tbody>\n",
       "</table>\n",
       "</div>"
      ],
      "text/plain": [
       "       Unnamed: 0              sequence  \\\n",
       "14408     2590916  AAGGAPLSCFICGGGIGRGK   \n",
       "14409     2590917  AAGGAPLSCFICGGGIGRGK   \n",
       "14984     2590930         AAHGRGALAEAAR   \n",
       "14985     2590939         AAHGRGALAEAAR   \n",
       "20120     2590957      AAYQAAIRGVGSAQSR   \n",
       "\n",
       "                                           modifications  charge          tr  \n",
       "14408  9|Carbamidomethyl|12|Carbamidomethyl|18|Citrul...       2  457.243285  \n",
       "14409  9|Carbamidomethyl|12|Carbamidomethyl|18|Citrul...       3  545.810620  \n",
       "14984                                   5|Citrullination       2  382.786007  \n",
       "14985                                   5|Citrullination       3  463.892010  \n",
       "20120                 8|Citrullination|16|Citrullination       2  414.281695  "
      ]
     },
     "execution_count": 7,
     "metadata": {},
     "output_type": "execute_result"
    }
   ],
   "source": [
    "df[df['modifications'].str.contains('Citrullination', na=False)].head()"
   ]
  },
  {
   "cell_type": "code",
   "execution_count": 8,
   "metadata": {},
   "outputs": [
    {
     "data": {
      "text/html": [
       "<div>\n",
       "<style scoped>\n",
       "    .dataframe tbody tr th:only-of-type {\n",
       "        vertical-align: middle;\n",
       "    }\n",
       "\n",
       "    .dataframe tbody tr th {\n",
       "        vertical-align: top;\n",
       "    }\n",
       "\n",
       "    .dataframe thead th {\n",
       "        text-align: right;\n",
       "    }\n",
       "</style>\n",
       "<table border=\"1\" class=\"dataframe\">\n",
       "  <thead>\n",
       "    <tr style=\"text-align: right;\">\n",
       "      <th></th>\n",
       "      <th>Unnamed: 0</th>\n",
       "      <th>sequence</th>\n",
       "      <th>modifications</th>\n",
       "      <th>charge</th>\n",
       "      <th>tr</th>\n",
       "    </tr>\n",
       "  </thead>\n",
       "  <tbody>\n",
       "  </tbody>\n",
       "</table>\n",
       "</div>"
      ],
      "text/plain": [
       "Empty DataFrame\n",
       "Columns: [Unnamed: 0, sequence, modifications, charge, tr]\n",
       "Index: []"
      ]
     },
     "execution_count": 8,
     "metadata": {},
     "output_type": "execute_result"
    }
   ],
   "source": [
    "df['modifications'] = df['modifications'].str.replace('Citrullination', 'Deamidation')\n",
    "\n",
    "# Verify the replacement\n",
    "df[df['modifications'].str.contains('Citrullination', na=False)].head()"
   ]
  },
  {
   "cell_type": "code",
   "execution_count": 9,
   "metadata": {},
   "outputs": [],
   "source": [
    "# Write the DataFrame back to a CSV file\n",
    "df.to_csv('/home/emmy/Notebooks2/output/MQpeprec_1.csv', index=False)"
   ]
  },
  {
   "cell_type": "code",
   "execution_count": 2,
   "metadata": {},
   "outputs": [],
   "source": [
    "infile = pd.read_csv(\"/home/emmy/Notebooks2/output/MQpeprec_1.csv\") #hier eigen aligned csv file aanroepen\n",
    "\n",
    "infile.head()\n",
    "psm_list = [] #psm_list is type object \n",
    "for idx,row in infile.iterrows():\n",
    "    seq = row[\"sequence\"]\n",
    "    charge = row[\"charge\"]  # Get the charge from the row\n",
    "    mod = row[\"modifications\"]\n",
    "    \n",
    "    peptidoform = f\"{seq}/{charge}\"\n",
    "    psm_list.append(PSM(peptidoform=peprec_to_proforma(peptidoform,mod),spectrum_id=idx))\n",
    "    \n",
    "psm_list = PSMList(psm_list=psm_list)\n",
    "\n",
    "feat_extractor = FeatExtractor()\n",
    "matrices = feat_extractor.encode_atoms(psm_list, list(range(len(psm_list))), predict_ccs=True)\n",
    "\n",
    "\n",
    "\n"
   ]
  },
  {
   "cell_type": "code",
   "execution_count": 3,
   "metadata": {},
   "outputs": [],
   "source": [
    "data = pd.read_csv(\"/home/emmy/Notebooks2/output/MQpeprec_1.csv\") #reading in the data\n",
    "ccs_df = data[['tr']]"
   ]
  },
  {
   "cell_type": "code",
   "execution_count": 4,
   "metadata": {},
   "outputs": [
    {
     "data": {
      "text/html": [
       "<div>\n",
       "<style scoped>\n",
       "    .dataframe tbody tr th:only-of-type {\n",
       "        vertical-align: middle;\n",
       "    }\n",
       "\n",
       "    .dataframe tbody tr th {\n",
       "        vertical-align: top;\n",
       "    }\n",
       "\n",
       "    .dataframe thead th {\n",
       "        text-align: right;\n",
       "    }\n",
       "</style>\n",
       "<table border=\"1\" class=\"dataframe\">\n",
       "  <thead>\n",
       "    <tr style=\"text-align: right;\">\n",
       "      <th></th>\n",
       "      <th>tr</th>\n",
       "    </tr>\n",
       "  </thead>\n",
       "  <tbody>\n",
       "    <tr>\n",
       "      <th>0</th>\n",
       "      <td>409.181586</td>\n",
       "    </tr>\n",
       "    <tr>\n",
       "      <th>1</th>\n",
       "      <td>675.752631</td>\n",
       "    </tr>\n",
       "    <tr>\n",
       "      <th>2</th>\n",
       "      <td>593.085242</td>\n",
       "    </tr>\n",
       "    <tr>\n",
       "      <th>3</th>\n",
       "      <td>682.043900</td>\n",
       "    </tr>\n",
       "    <tr>\n",
       "      <th>4</th>\n",
       "      <td>492.912110</td>\n",
       "    </tr>\n",
       "  </tbody>\n",
       "</table>\n",
       "</div>"
      ],
      "text/plain": [
       "           tr\n",
       "0  409.181586\n",
       "1  675.752631\n",
       "2  593.085242\n",
       "3  682.043900\n",
       "4  492.912110"
      ]
     },
     "execution_count": 4,
     "metadata": {},
     "output_type": "execute_result"
    }
   ],
   "source": [
    "ccs_df.head()"
   ]
  },
  {
   "cell_type": "code",
   "execution_count": 5,
   "metadata": {},
   "outputs": [],
   "source": [
    "matrix = np.stack(list(matrices[\"matrix\"].values()))\n",
    "matrix_all = np.stack(list(matrices[\"matrix_all\"].values()))"
   ]
  },
  {
   "cell_type": "code",
   "execution_count": 5,
   "metadata": {},
   "outputs": [],
   "source": [
    "# Reshape 'matrix' to 2D and save to a CSV file\n",
    "#np.savetxt(\"matrix2.csv\", matrix.reshape(matrix.shape[0], -1), delimiter=\",\")\n",
    "\n",
    "# Reshape 'matrix_all' to 2D and save to a CSV file\n",
    "#np.savetxt(\"matrix_all2.csv\", matrix_all.reshape(matrix_all.shape[0], -1), delimiter=\",\")"
   ]
  },
  {
   "cell_type": "code",
   "execution_count": 18,
   "metadata": {},
   "outputs": [
    {
     "data": {
      "text/plain": [
       "(1148760, 12)"
      ]
     },
     "execution_count": 18,
     "metadata": {},
     "output_type": "execute_result"
    }
   ],
   "source": [
    "matrix_all.shape"
   ]
  },
  {
   "cell_type": "code",
   "execution_count": 19,
   "metadata": {},
   "outputs": [
    {
     "data": {
      "text/plain": [
       "(1148760, 60, 6)"
      ]
     },
     "execution_count": 19,
     "metadata": {},
     "output_type": "execute_result"
    }
   ],
   "source": [
    "matrix.shape"
   ]
  },
  {
   "cell_type": "code",
   "execution_count": 6,
   "metadata": {},
   "outputs": [],
   "source": [
    "from sklearn.model_selection import train_test_split\n",
    "\n",
    "# Split the data into training and testing sets\n",
    "matrix_train, matrix_test, matrix_all_train, matrix_all_test, ccs_train, ccs_test = train_test_split(matrix, matrix_all, ccs_df, test_size=0.2, random_state=42)\n",
    "\n",
    "# Further split the training data into training and validation sets if needed\n",
    "matrix_train, matrix_val, matrix_all_train, matrix_all_val, ccs_train, ccs_val = train_test_split(matrix_train, matrix_all_train, ccs_train, test_size=0.1, random_state=42)"
   ]
  },
  {
   "cell_type": "code",
   "execution_count": 7,
   "metadata": {},
   "outputs": [
    {
     "name": "stdout",
     "output_type": "stream",
     "text": [
      "Carbamidomethyl      174485\n",
      "Oxidation            145471\n",
      "Acetyl                11582\n",
      "Deamidation            8461\n",
      "Methyl                  671\n",
      "Dimethyl                667\n",
      "GlyGly                  490\n",
      "Hydroxyproline          478\n",
      "Trimethyl               395\n",
      "Gluratylation           391\n",
      "Succinyl                383\n",
      "Butyryl                 362\n",
      "hydroxyisobutyryl       355\n",
      "Crotonyl                312\n",
      "Formyl                  285\n",
      "Malonyl                 260\n",
      "Biotin                  194\n",
      "Nitro                   189\n",
      "HexNAc                  169\n",
      "Propionyl               156\n",
      "Phospho                 132\n",
      "dtype: int64\n"
     ]
    }
   ],
   "source": [
    "import pandas as pd\n",
    "\n",
    "# Read the CSV file into a DataFrame\n",
    "df = pd.read_csv('/home/emmy/Notebooks2/output/MQpeprec_1.csv')\n",
    "\n",
    "# Split the 'modifications' column by ';' (or the appropriate delimiter)\n",
    "modifications = df['modifications'].str.split(';', expand=True).stack()\n",
    "\n",
    "# Split each modification by '|' to separate the position from the modification itself\n",
    "modifications = modifications.str.split('|').str[1]\n",
    "\n",
    "# Count the number of different modifications\n",
    "modification_counts = modifications.value_counts()\n",
    "\n",
    "# Print the counts\n",
    "print(modification_counts)"
   ]
  },
  {
   "cell_type": "code",
   "execution_count": 18,
   "metadata": {},
   "outputs": [
    {
     "name": "stdout",
     "output_type": "stream",
     "text": [
      "[14714, 14715, 27652, 27653, 30992, 45407, 47870, 61143, 68014, 75003, 77267, 94341, 94342, 94343, 94344, 94345, 94346, 94347, 102601, 103563, 104873, 112979, 132928, 138766, 139384, 139715, 162617, 162618, 162619, 162620, 162621, 162622, 251515, 259784, 259785, 268936, 270147, 281356, 286713, 297612, 301918, 311961, 330116, 330325, 330326, 336075, 344269, 344270, 346681, 348397, 348398, 348399, 360090, 360213, 360214, 361679, 361680, 398532, 419337, 426720, 446930, 446931, 595615, 595616, 599022, 607802, 610509, 613182, 613183, 615305, 626986, 629677, 663904, 678893, 680529, 689353, 692268, 710023, 710024, 710025, 710026, 710027, 710028, 711313, 711314, 713650, 714369, 717658, 717659, 803292, 804882, 897493, 898605, 902452, 933654, 950709, 958803, 960598, 960599, 960600, 960601, 960602, 960603, 960604, 960605, 965125, 975719, 978477, 983735, 983736, 994542, 1010225, 1012066, 1014218, 1014219, 1023759, 1033864, 1040737, 1042604, 1052316, 1052317, 1059285, 1076481, 1097245, 1100516, 1100517, 1103439, 1103440, 1103441, 1103442, 1103443, 1114228, 1114229, 1114230, 1114231, 1114232, 1114233, 1114234, 1114235, 1114236, 1114237, 1114238, 1114239, 1114240, 1114241, 1114242, 1114243, 1114244, 1114245, 1114246]\n"
     ]
    }
   ],
   "source": [
    "# Create a boolean mask for rows where the 'modifications' column contains \"Carbamidomethyl\"\n",
    "mask = df['modifications'].str.contains('Phospho', na=False)\n",
    "\n",
    "# Get the indices of the rows where the mask is True\n",
    "indices = df[mask].index.tolist()\n",
    "\n",
    "# Print the indices\n",
    "print(indices)\n",
    "\n",
    "#moet wel +2 doen om zelfde getal te hebben als in peprec_1.csv"
   ]
  },
  {
   "cell_type": "code",
   "execution_count": 19,
   "metadata": {},
   "outputs": [
    {
     "name": "stdout",
     "output_type": "stream",
     "text": [
      "[14716, 14717, 27654, 27655, 30994, 45409, 47872, 61145, 68016, 75005, 77269, 94343, 94344, 94345, 94346, 94347, 94348, 94349, 102603, 103565, 104875, 112981, 132930, 138768, 139386, 139717, 162619, 162620, 162621, 162622, 162623, 162624, 251517, 259786, 259787, 268938, 270149, 281358, 286715, 297614, 301920, 311963, 330118, 330327, 330328, 336077, 344271, 344272, 346683, 348399, 348400, 348401, 360092, 360215, 360216, 361681, 361682, 398534, 419339, 426722, 446932, 446933, 595617, 595618, 599024, 607804, 610511, 613184, 613185, 615307, 626988, 629679, 663906, 678895, 680531, 689355, 692270, 710025, 710026, 710027, 710028, 710029, 710030, 711315, 711316, 713652, 714371, 717660, 717661, 803294, 804884, 897495, 898607, 902454, 933656, 950711, 958805, 960600, 960601, 960602, 960603, 960604, 960605, 960606, 960607, 965127, 975721, 978479, 983737, 983738, 994544, 1010227, 1012068, 1014220, 1014221, 1023761, 1033866, 1040739, 1042606, 1052318, 1052319, 1059287, 1076483, 1097247, 1100518, 1100519, 1103441, 1103442, 1103443, 1103444, 1103445, 1114230, 1114231, 1114232, 1114233, 1114234, 1114235, 1114236, 1114237, 1114238, 1114239, 1114240, 1114241, 1114242, 1114243, 1114244, 1114245, 1114246, 1114247, 1114248]\n"
     ]
    }
   ],
   "source": [
    "# Create a new list where every number is incremented by 2\n",
    "new_indices = [idx + 2 for idx in indices]\n",
    "\n",
    "print(new_indices)\n"
   ]
  },
  {
   "cell_type": "code",
   "execution_count": 8,
   "metadata": {},
   "outputs": [
    {
     "data": {
      "text/html": [
       "<div>\n",
       "<style scoped>\n",
       "    .dataframe tbody tr th:only-of-type {\n",
       "        vertical-align: middle;\n",
       "    }\n",
       "\n",
       "    .dataframe tbody tr th {\n",
       "        vertical-align: top;\n",
       "    }\n",
       "\n",
       "    .dataframe thead th {\n",
       "        text-align: right;\n",
       "    }\n",
       "</style>\n",
       "<table border=\"1\" class=\"dataframe\">\n",
       "  <thead>\n",
       "    <tr style=\"text-align: right;\">\n",
       "      <th></th>\n",
       "      <th>tr</th>\n",
       "    </tr>\n",
       "  </thead>\n",
       "  <tbody>\n",
       "    <tr>\n",
       "      <th>129919</th>\n",
       "      <td>420.248133</td>\n",
       "    </tr>\n",
       "    <tr>\n",
       "      <th>1129049</th>\n",
       "      <td>441.017200</td>\n",
       "    </tr>\n",
       "    <tr>\n",
       "      <th>161312</th>\n",
       "      <td>550.032030</td>\n",
       "    </tr>\n",
       "    <tr>\n",
       "      <th>15185</th>\n",
       "      <td>501.311247</td>\n",
       "    </tr>\n",
       "    <tr>\n",
       "      <th>939427</th>\n",
       "      <td>520.231105</td>\n",
       "    </tr>\n",
       "    <tr>\n",
       "      <th>...</th>\n",
       "      <td>...</td>\n",
       "    </tr>\n",
       "    <tr>\n",
       "      <th>752472</th>\n",
       "      <td>428.058479</td>\n",
       "    </tr>\n",
       "    <tr>\n",
       "      <th>208958</th>\n",
       "      <td>519.166400</td>\n",
       "    </tr>\n",
       "    <tr>\n",
       "      <th>419260</th>\n",
       "      <td>487.869235</td>\n",
       "    </tr>\n",
       "    <tr>\n",
       "      <th>552329</th>\n",
       "      <td>598.787710</td>\n",
       "    </tr>\n",
       "    <tr>\n",
       "      <th>919034</th>\n",
       "      <td>320.674930</td>\n",
       "    </tr>\n",
       "  </tbody>\n",
       "</table>\n",
       "<p>229752 rows × 1 columns</p>\n",
       "</div>"
      ],
      "text/plain": [
       "                 tr\n",
       "129919   420.248133\n",
       "1129049  441.017200\n",
       "161312   550.032030\n",
       "15185    501.311247\n",
       "939427   520.231105\n",
       "...             ...\n",
       "752472   428.058479\n",
       "208958   519.166400\n",
       "419260   487.869235\n",
       "552329   598.787710\n",
       "919034   320.674930\n",
       "\n",
       "[229752 rows x 1 columns]"
      ]
     },
     "execution_count": 8,
     "metadata": {},
     "output_type": "execute_result"
    }
   ],
   "source": [
    "ccs_test"
   ]
  },
  {
   "cell_type": "code",
   "execution_count": 8,
   "metadata": {},
   "outputs": [],
   "source": [
    "# Read the CSV file into a DataFrame\n",
    "df = pd.read_csv('ccs_test_model_combined_mod.csv')\n",
    "\n",
    "# Set the index of df to the index of ccs_test\n",
    "df.index = ccs_test.index\n",
    "\n",
    "# Save df back to a CSV file\n",
    "#df.to_csv('ccs_test_model_rnn_mod_gru.csv', index=True)"
   ]
  },
  {
   "cell_type": "code",
   "execution_count": 9,
   "metadata": {},
   "outputs": [
    {
     "data": {
      "text/html": [
       "<div>\n",
       "<style scoped>\n",
       "    .dataframe tbody tr th:only-of-type {\n",
       "        vertical-align: middle;\n",
       "    }\n",
       "\n",
       "    .dataframe tbody tr th {\n",
       "        vertical-align: top;\n",
       "    }\n",
       "\n",
       "    .dataframe thead th {\n",
       "        text-align: right;\n",
       "    }\n",
       "</style>\n",
       "<table border=\"1\" class=\"dataframe\">\n",
       "  <thead>\n",
       "    <tr style=\"text-align: right;\">\n",
       "      <th></th>\n",
       "      <th>CCS</th>\n",
       "      <th>Model_combined_predictions_mod</th>\n",
       "    </tr>\n",
       "  </thead>\n",
       "  <tbody>\n",
       "    <tr>\n",
       "      <th>129919</th>\n",
       "      <td>420.248133</td>\n",
       "      <td>418.19495</td>\n",
       "    </tr>\n",
       "    <tr>\n",
       "      <th>1129049</th>\n",
       "      <td>441.017200</td>\n",
       "      <td>436.70187</td>\n",
       "    </tr>\n",
       "    <tr>\n",
       "      <th>161312</th>\n",
       "      <td>550.032030</td>\n",
       "      <td>580.59080</td>\n",
       "    </tr>\n",
       "    <tr>\n",
       "      <th>15185</th>\n",
       "      <td>501.311247</td>\n",
       "      <td>511.33180</td>\n",
       "    </tr>\n",
       "    <tr>\n",
       "      <th>939427</th>\n",
       "      <td>520.231105</td>\n",
       "      <td>505.11752</td>\n",
       "    </tr>\n",
       "  </tbody>\n",
       "</table>\n",
       "</div>"
      ],
      "text/plain": [
       "                CCS  Model_combined_predictions_mod\n",
       "129919   420.248133                       418.19495\n",
       "1129049  441.017200                       436.70187\n",
       "161312   550.032030                       580.59080\n",
       "15185    501.311247                       511.33180\n",
       "939427   520.231105                       505.11752"
      ]
     },
     "execution_count": 9,
     "metadata": {},
     "output_type": "execute_result"
    }
   ],
   "source": [
    "df.head()"
   ]
  },
  {
   "cell_type": "code",
   "execution_count": 10,
   "metadata": {},
   "outputs": [],
   "source": [
    "# Save df back to a CSV file\n",
    "df.to_csv('ccs_test_model_combined_mod.csv', index=True)"
   ]
  },
  {
   "cell_type": "code",
   "execution_count": null,
   "metadata": {},
   "outputs": [],
   "source": [
    "# Or, if you don't know the column name, you can use iloc to access the first column\n",
    "valid_indices = [idx for idx in phospho_indices if idx in df[\"Indexnr\"]]"
   ]
  }
 ],
 "metadata": {
  "kernelspec": {
   "display_name": "Python 3 (ipykernel)",
   "language": "python",
   "name": "python3"
  },
  "language_info": {
   "codemirror_mode": {
    "name": "ipython",
    "version": 3
   },
   "file_extension": ".py",
   "mimetype": "text/x-python",
   "name": "python",
   "nbconvert_exporter": "python",
   "pygments_lexer": "ipython3",
   "version": "3.10.13"
  }
 },
 "nbformat": 4,
 "nbformat_minor": 4
}
